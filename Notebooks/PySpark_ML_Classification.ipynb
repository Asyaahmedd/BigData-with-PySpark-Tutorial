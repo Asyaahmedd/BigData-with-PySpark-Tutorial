{
  "cells": [
    {
      "cell_type": "markdown",
      "source": [
        "# Predict the Stroke Condition"
      ],
      "metadata": {
        "id": "0tnFXOnSrmeZ"
      },
      "id": "0tnFXOnSrmeZ"
    },
    {
      "cell_type": "markdown",
      "metadata": {
        "id": "qwmCz6nzqroz"
      },
      "source": [
        "\n",
        "- The objective from this project is to create a <b>Logistic Regression Classifier</b> to predict the <b>Stroke Condition</b>.\n",
        "- <b>Stoke</b> is a condition in which either the blood flow to the brain stops or blood flow is excessive.\n",
        "- It is required to obtain <b>ROC > 0.65</b>."
      ],
      "id": "qwmCz6nzqroz"
    },
    {
      "cell_type": "markdown",
      "metadata": {
        "id": "7cxrcyGeqro7"
      },
      "source": [
        "### Data:\n",
        "- Data is provided in csv format in a file named <b>healthcare-dataset-stroke-data.csv</b>"
      ],
      "id": "7cxrcyGeqro7"
    },
    {
      "cell_type": "markdown",
      "metadata": {
        "id": "0NvsyWR3qrpC"
      },
      "source": [
        "### Column names and data types are as follow:\n",
        "- id, integer.\n",
        "- gender, string.\n",
        "- age, double.\n",
        "- hypertension, integer.\n",
        "- heart_disease, integer.\n",
        "- ever_married, string.\n",
        "- work_type, string.\n",
        "- Residence_type, string.\n",
        "- avg_glucose_level, double.\n",
        "- bmi, double.\n",
        "- smoking_status, string.\n",
        "- stroke, integer <b>(Target Label)</b>.\n",
        "If the person has stroke the stroke label value is <b>\"1\"</b> otherwise <b>\"0\"</b>."
      ],
      "id": "0NvsyWR3qrpC"
    },
    {
      "cell_type": "markdown",
      "metadata": {
        "id": "gUxZnsqrmynW"
      },
      "source": [
        "### Create a spark session and import the required libraries"
      ],
      "id": "gUxZnsqrmynW"
    },
    {
      "cell_type": "code",
      "execution_count": null,
      "metadata": {
        "id": "oglq7il6qrpE"
      },
      "outputs": [],
      "source": [
        "import findspark\n",
        "findspark.init()\n",
        "from pyspark.sql import SparkSession\n",
        "from pyspark.sql.functions import udf\n",
        "from pyspark.sql.types import *\n",
        "spark = (SparkSession\n",
        ".builder\n",
        ".appName(\"stroke prediction\")\n",
        ".getOrCreate())"
      ],
      "id": "oglq7il6qrpE"
    },
    {
      "cell_type": "markdown",
      "metadata": {
        "id": "pgKmvzb6qrpG"
      },
      "source": [
        "### Create a data schema programatically"
      ],
      "id": "pgKmvzb6qrpG"
    },
    {
      "cell_type": "code",
      "execution_count": null,
      "metadata": {
        "id": "ZYdHDf0VqrpH"
      },
      "outputs": [],
      "source": [
        "data_schema = StructType([StructField(\"id\", IntegerType(), False),\n",
        "                     StructField(\"gender\", StringType(), False),\n",
        "                     StructField(\"age\", DoubleType(), False),\n",
        "                     StructField(\"hypertension\", IntegerType(), False),\n",
        "                     StructField(\"heart_disease\", IntegerType(), False),\n",
        "                     StructField(\"ever_married\", StringType(), False),\n",
        "                     StructField(\"work_type\", StringType(), False),\n",
        "                     StructField(\"Residence_type\", StringType(), False),\n",
        "                     StructField(\"avg_glucose_level\", DoubleType(), False),\n",
        "                     StructField(\"bmi\", DoubleType(), False),\n",
        "                     StructField(\"smoking_status\", StringType(), False),\n",
        "                     StructField(\"stroke\", IntegerType(), False)])"
      ],
      "id": "ZYdHDf0VqrpH"
    },
    {
      "cell_type": "markdown",
      "metadata": {
        "id": "o5cGaDtFqrpJ"
      },
      "source": [
        "### Read the data using the standard DataReader (Key,Value) pairs format\n"
      ],
      "id": "o5cGaDtFqrpJ"
    },
    {
      "cell_type": "code",
      "execution_count": null,
      "metadata": {
        "id": "GzlWTP99qrpK"
      },
      "outputs": [],
      "source": [
        "\n",
        "df = spark.read.csv('/home/asya/Downloads/healthcare-dataset-stroke-data.csv',schema=data_schema ,header=True)"
      ],
      "id": "GzlWTP99qrpK"
    },
    {
      "cell_type": "markdown",
      "metadata": {
        "id": "AZOiGsOtqrpM"
      },
      "source": [
        "### Explore the data\n",
        "\n",
        "- Print the Schema.\n",
        "- Show the first 10 rows from the data.\n",
        "- Explore null values and show how many null values in each column.\n",
        "- Plot a count plot for the target label and <b>notice the graph</b>.\n",
        "- Perform any additional EDA you find useful."
      ],
      "id": "AZOiGsOtqrpM"
    },
    {
      "cell_type": "code",
      "execution_count": null,
      "metadata": {
        "id": "ewkWgW8_qrpN",
        "outputId": "60c1b8f0-47b1-4f9f-dd08-300388c16b74"
      },
      "outputs": [
        {
          "name": "stdout",
          "output_type": "stream",
          "text": [
            "root\n",
            " |-- id: integer (nullable = true)\n",
            " |-- gender: string (nullable = true)\n",
            " |-- age: double (nullable = true)\n",
            " |-- hypertension: integer (nullable = true)\n",
            " |-- heart_disease: integer (nullable = true)\n",
            " |-- ever_married: string (nullable = true)\n",
            " |-- work_type: string (nullable = true)\n",
            " |-- Residence_type: string (nullable = true)\n",
            " |-- avg_glucose_level: double (nullable = true)\n",
            " |-- bmi: double (nullable = true)\n",
            " |-- smoking_status: string (nullable = true)\n",
            " |-- stroke: integer (nullable = true)\n",
            "\n"
          ]
        }
      ],
      "source": [
        "\n",
        "df.printSchema()"
      ],
      "id": "ewkWgW8_qrpN"
    },
    {
      "cell_type": "code",
      "execution_count": null,
      "metadata": {
        "id": "3Fcb0bYvqrpP",
        "outputId": "d4f229a2-be2e-4804-cbd6-2d0256ad5190"
      },
      "outputs": [
        {
          "name": "stdout",
          "output_type": "stream",
          "text": [
            "+-----+------+----+------------+-------------+------------+-------------+--------------+-----------------+----+---------------+------+\n",
            "|   id|gender| age|hypertension|heart_disease|ever_married|    work_type|Residence_type|avg_glucose_level| bmi| smoking_status|stroke|\n",
            "+-----+------+----+------------+-------------+------------+-------------+--------------+-----------------+----+---------------+------+\n",
            "| 9046|  Male|67.0|           0|            1|         Yes|      Private|         Urban|           228.69|36.6|formerly smoked|     1|\n",
            "|51676|Female|61.0|           0|            0|         Yes|Self-employed|         Rural|           202.21|null|   never smoked|     1|\n",
            "|31112|  Male|80.0|           0|            1|         Yes|      Private|         Rural|           105.92|32.5|   never smoked|     1|\n",
            "|60182|Female|49.0|           0|            0|         Yes|      Private|         Urban|           171.23|34.4|         smokes|     1|\n",
            "| 1665|Female|79.0|           1|            0|         Yes|Self-employed|         Rural|           174.12|24.0|   never smoked|     1|\n",
            "|56669|  Male|81.0|           0|            0|         Yes|      Private|         Urban|           186.21|29.0|formerly smoked|     1|\n",
            "|53882|  Male|74.0|           1|            1|         Yes|      Private|         Rural|            70.09|27.4|   never smoked|     1|\n",
            "|10434|Female|69.0|           0|            0|          No|      Private|         Urban|            94.39|22.8|   never smoked|     1|\n",
            "|27419|Female|59.0|           0|            0|         Yes|      Private|         Rural|            76.15|null|        Unknown|     1|\n",
            "|60491|Female|78.0|           0|            0|         Yes|      Private|         Urban|            58.57|24.2|        Unknown|     1|\n",
            "+-----+------+----+------------+-------------+------------+-------------+--------------+-----------------+----+---------------+------+\n",
            "only showing top 10 rows\n",
            "\n"
          ]
        }
      ],
      "source": [
        "df.show(10)"
      ],
      "id": "3Fcb0bYvqrpP"
    },
    {
      "cell_type": "code",
      "execution_count": null,
      "metadata": {
        "id": "4eBG1rBJqrpR",
        "outputId": "2a094a56-0412-473f-dc8e-07eac4a56cac"
      },
      "outputs": [
        {
          "name": "stdout",
          "output_type": "stream",
          "text": [
            "+---+------+---+------------+-------------+------------+---------+--------------+-----------------+---+--------------+------+\n",
            "| id|gender|age|hypertension|heart_disease|ever_married|work_type|Residence_type|avg_glucose_level|bmi|smoking_status|stroke|\n",
            "+---+------+---+------------+-------------+------------+---------+--------------+-----------------+---+--------------+------+\n",
            "|  0|     0|  0|           0|            0|           0|        0|             0|                0|201|             0|     0|\n",
            "+---+------+---+------------+-------------+------------+---------+--------------+-----------------+---+--------------+------+\n",
            "\n"
          ]
        }
      ],
      "source": [
        "from pyspark.sql.functions import isnan, when, count, col\n",
        "\n",
        "count_null_df = df.select([count(when(isnan(c) | col(c).isNull(), c)).alias(c) for c in df.columns])\n",
        "count_null_df.show()\n"
      ],
      "id": "4eBG1rBJqrpR"
    },
    {
      "cell_type": "code",
      "execution_count": null,
      "metadata": {
        "id": "OSMTXoJLqrpS",
        "outputId": "cd5daa9a-96fb-462b-d652-a5aaaf93f541"
      },
      "outputs": [
        {
          "name": "stdout",
          "output_type": "stream",
          "text": [
            "5110\n"
          ]
        },
        {
          "data": {
            "text/plain": [
              "<AxesSubplot:xlabel='stroke', ylabel='count'>"
            ]
          },
          "execution_count": 7,
          "metadata": {},
          "output_type": "execute_result"
        },
        {
          "data": {
            "image/png": "[encoded data removed]",
            "text/plain": [
              "<Figure size 432x288 with 1 Axes>"
            ]
          },
          "metadata": {
            "needs_background": "light"
          },
          "output_type": "display_data"
        }
      ],
      "source": [
        "import matplotlib.pyplot as plt\n",
        "import seaborn as sns\n",
        "%matplotlib inline\n",
        "pandasDF = df.toPandas()\n",
        "print(len(pandasDF))\n",
        "plt.figure(figsize=(6,4))\n",
        "sns.countplot(x='stroke', data=pandasDF, order=pandasDF['stroke'].value_counts().index)"
      ],
      "id": "OSMTXoJLqrpS"
    },
    {
      "cell_type": "markdown",
      "metadata": {
        "id": "VtexlAZYqrpU"
      },
      "source": [
        "### Get the summary statistics of the age column\n",
        "- the minimum age is about <b>0.08</b>.\n",
        "- Remove rows for the age below <b>2 years old</b>."
      ],
      "id": "VtexlAZYqrpU"
    },
    {
      "cell_type": "code",
      "execution_count": null,
      "metadata": {
        "id": "AK5IlsyMqrpU",
        "outputId": "ea19d467-bd1d-41ac-e562-1ec0aaa6a917"
      },
      "outputs": [
        {
          "name": "stdout",
          "output_type": "stream",
          "text": [
            "+-------+------------------+\n",
            "|summary|               age|\n",
            "+-------+------------------+\n",
            "|  count|              5110|\n",
            "|   mean|43.226614481409015|\n",
            "| stddev| 22.61264672311348|\n",
            "|    min|              0.08|\n",
            "|    max|              82.0|\n",
            "+-------+------------------+\n",
            "\n"
          ]
        }
      ],
      "source": [
        "df.select(\"age\").summary(\"count\",\"mean\",\"stddev\",\"min\",\"max\").show()"
      ],
      "id": "AK5IlsyMqrpU"
    },
    {
      "cell_type": "code",
      "execution_count": null,
      "metadata": {
        "id": "8-dKRagYqrpV"
      },
      "outputs": [],
      "source": [
        "filtered_df = df.filter(\"age > 2\")"
      ],
      "id": "8-dKRagYqrpV"
    },
    {
      "cell_type": "markdown",
      "metadata": {
        "id": "6PXfrBbuqrpX"
      },
      "source": [
        "### Working with gender & smoking_status columns:\n",
        "- Select and show the gender & smoking_status columns\n",
        "- Get the distinct values for each column."
      ],
      "id": "6PXfrBbuqrpX"
    },
    {
      "cell_type": "code",
      "execution_count": null,
      "metadata": {
        "id": "c5tmQJnBqrpX",
        "outputId": "bd7df43c-edab-46d8-f5b8-994e4cf69193"
      },
      "outputs": [
        {
          "name": "stdout",
          "output_type": "stream",
          "text": [
            "+------+---------------+\n",
            "|gender| smoking_status|\n",
            "+------+---------------+\n",
            "|  Male|formerly smoked|\n",
            "|Female|   never smoked|\n",
            "|  Male|   never smoked|\n",
            "|Female|         smokes|\n",
            "|Female|   never smoked|\n",
            "|  Male|formerly smoked|\n",
            "|  Male|   never smoked|\n",
            "|Female|   never smoked|\n",
            "|Female|        Unknown|\n",
            "|Female|        Unknown|\n",
            "|Female|   never smoked|\n",
            "|Female|         smokes|\n",
            "|Female|         smokes|\n",
            "|  Male|        Unknown|\n",
            "|Female|   never smoked|\n",
            "|Female|   never smoked|\n",
            "|  Male|         smokes|\n",
            "|  Male|         smokes|\n",
            "|Female|   never smoked|\n",
            "|  Male|        Unknown|\n",
            "+------+---------------+\n",
            "only showing top 20 rows\n",
            "\n"
          ]
        }
      ],
      "source": [
        "filtered_df.select('gender','smoking_status').show()"
      ],
      "id": "c5tmQJnBqrpX"
    },
    {
      "cell_type": "code",
      "execution_count": null,
      "metadata": {
        "id": "lsCZJw3nqrpY",
        "outputId": "afaffa41-dcb4-41ad-b180-0ee4a8e68087"
      },
      "outputs": [
        {
          "name": "stdout",
          "output_type": "stream",
          "text": [
            "+------+\n",
            "|gender|\n",
            "+------+\n",
            "|Female|\n",
            "| Other|\n",
            "|  Male|\n",
            "+------+\n",
            "\n"
          ]
        }
      ],
      "source": [
        "filtered_df.select('gender').distinct().show()\n"
      ],
      "id": "lsCZJw3nqrpY"
    },
    {
      "cell_type": "code",
      "execution_count": null,
      "metadata": {
        "id": "LqnHkeEVqrpZ",
        "outputId": "35355141-3606-413d-cd44-1369ad68e8a5"
      },
      "outputs": [
        {
          "name": "stdout",
          "output_type": "stream",
          "text": [
            "+---------------+\n",
            "| smoking_status|\n",
            "+---------------+\n",
            "|         smokes|\n",
            "|        Unknown|\n",
            "|   never smoked|\n",
            "|formerly smoked|\n",
            "+---------------+\n",
            "\n"
          ]
        }
      ],
      "source": [
        "filtered_df.select('smoking_status').distinct().show()"
      ],
      "id": "LqnHkeEVqrpZ"
    },
    {
      "cell_type": "markdown",
      "metadata": {
        "id": "HQFPKukRLzbB"
      },
      "source": [
        "#### Changing the string values of the columns into numerical values as follow:\n",
        "1. Gender column:\n",
        "    * Male = 1\n",
        "    * Female = 0\n",
        "    * Other = 0\n",
        "2. Smoking Status column:\n",
        "  * never smoked = 0\n",
        "  * Unknown = 0.5\n",
        "  * formerly smoked = 0.75\n",
        "  * smokes = 1.0\n"
      ],
      "id": "HQFPKukRLzbB"
    },
    {
      "cell_type": "code",
      "execution_count": null,
      "metadata": {
        "id": "0UMOiG9Iqrpa"
      },
      "outputs": [],
      "source": [
        "def mapping_gender(val):\n",
        "    if val =='Male':\n",
        "        return 1\n",
        "    elif val == 'Female':\n",
        "        return 0\n",
        "    elif val == 'Other':\n",
        "        return 0\n",
        "def mapping_smoking(val):\n",
        "    if val =='never smoked':\n",
        "        return 0.0\n",
        "    elif val == 'Unknown':\n",
        "        return 0.5\n",
        "    elif val == 'formerly smoked':\n",
        "        return 0.75\n",
        "    elif val == 'smokes':\n",
        "        return 1.0\n",
        "\n",
        "mapping_genderUDF = udf(lambda z: mapping_gender(z))\n",
        "mapping_smokingUDF = udf(lambda z: mapping_smoking(z))"
      ],
      "id": "0UMOiG9Iqrpa"
    },
    {
      "cell_type": "code",
      "execution_count": null,
      "metadata": {
        "id": "CGnzLFTBqrpa"
      },
      "outputs": [],
      "source": [
        "temp = filtered_df.withColumn(\"gender_mapped\", mapping_genderUDF(col(\"gender\")))\n",
        "filtered_df = temp.withColumn(\"smoking_status_mapped\", mapping_smokingUDF(col(\"smoking_status\")))"
      ],
      "id": "CGnzLFTBqrpa"
    },
    {
      "cell_type": "code",
      "execution_count": null,
      "metadata": {
        "id": "YNXYLoSXqrpb"
      },
      "outputs": [],
      "source": [
        "temp = filtered_df.drop('gender','smoking_status')\n",
        "temp = temp.withColumnRenamed('smoking_status_mapped','smoking_status')\n",
        "filtered_df = temp.withColumnRenamed('gender_mapped','gender')"
      ],
      "id": "YNXYLoSXqrpb"
    },
    {
      "cell_type": "markdown",
      "metadata": {
        "id": "Se_--SYrqrpb"
      },
      "source": [
        "#### Show the output DataFrame\n",
        "- Select and show the gender & smoking_status columns after value changing.\n",
        "- Print schema for the new dataframe."
      ],
      "id": "Se_--SYrqrpb"
    },
    {
      "cell_type": "code",
      "execution_count": null,
      "metadata": {
        "id": "kA0e5sxsqrpc",
        "outputId": "9de22664-0297-4b21-b099-977a15210dc7"
      },
      "outputs": [
        {
          "name": "stdout",
          "output_type": "stream",
          "text": [
            "+------+--------------+\n",
            "|gender|smoking_status|\n",
            "+------+--------------+\n",
            "|     1|          0.75|\n",
            "|     0|           0.0|\n",
            "|     1|           0.0|\n",
            "|     0|           1.0|\n",
            "|     0|           0.0|\n",
            "|     1|          0.75|\n",
            "|     1|           0.0|\n",
            "|     0|           0.0|\n",
            "|     0|           0.5|\n",
            "|     0|           0.5|\n",
            "|     0|           0.0|\n",
            "|     0|           1.0|\n",
            "|     0|           1.0|\n",
            "|     1|           0.5|\n",
            "|     0|           0.0|\n",
            "|     0|           0.0|\n",
            "|     1|           1.0|\n",
            "|     1|           1.0|\n",
            "|     0|           0.0|\n",
            "|     1|           0.5|\n",
            "+------+--------------+\n",
            "only showing top 20 rows\n",
            "\n"
          ]
        }
      ],
      "source": [
        "filtered_df.select('gender','smoking_status').show()"
      ],
      "id": "kA0e5sxsqrpc"
    },
    {
      "cell_type": "code",
      "execution_count": null,
      "metadata": {
        "id": "TRpvqIPCqrpc",
        "outputId": "6c0c85d0-c03e-400c-aea4-350dfffa3a75"
      },
      "outputs": [
        {
          "name": "stdout",
          "output_type": "stream",
          "text": [
            "+------+\n",
            "|gender|\n",
            "+------+\n",
            "|     0|\n",
            "|     1|\n",
            "+------+\n",
            "\n"
          ]
        }
      ],
      "source": [
        "filtered_df.select('gender').distinct().show()"
      ],
      "id": "TRpvqIPCqrpc"
    },
    {
      "cell_type": "code",
      "execution_count": null,
      "metadata": {
        "id": "gZVLgQmqqrpd",
        "outputId": "dbfe6e5e-7c49-4059-9dd4-4c83d338b8cb"
      },
      "outputs": [
        {
          "name": "stdout",
          "output_type": "stream",
          "text": [
            "+--------------+\n",
            "|smoking_status|\n",
            "+--------------+\n",
            "|           1.0|\n",
            "|          0.75|\n",
            "|           0.0|\n",
            "|           0.5|\n",
            "+--------------+\n",
            "\n"
          ]
        }
      ],
      "source": [
        "filtered_df.select('smoking_status').distinct().show()"
      ],
      "id": "gZVLgQmqqrpd"
    },
    {
      "cell_type": "code",
      "execution_count": null,
      "metadata": {
        "id": "oIEzsRx9qrpd",
        "outputId": "0ab69874-f27f-49ec-9e8c-249d67c4b550"
      },
      "outputs": [
        {
          "name": "stdout",
          "output_type": "stream",
          "text": [
            "root\n",
            " |-- id: integer (nullable = true)\n",
            " |-- age: double (nullable = true)\n",
            " |-- hypertension: integer (nullable = true)\n",
            " |-- heart_disease: integer (nullable = true)\n",
            " |-- ever_married: string (nullable = true)\n",
            " |-- work_type: string (nullable = true)\n",
            " |-- Residence_type: string (nullable = true)\n",
            " |-- avg_glucose_level: double (nullable = true)\n",
            " |-- bmi: double (nullable = true)\n",
            " |-- stroke: integer (nullable = true)\n",
            " |-- gender: string (nullable = true)\n",
            " |-- smoking_status: string (nullable = true)\n",
            "\n"
          ]
        }
      ],
      "source": [
        "filtered_df.printSchema()"
      ],
      "id": "oIEzsRx9qrpd"
    },
    {
      "cell_type": "markdown",
      "metadata": {
        "id": "8fZPO_4Xqrpe"
      },
      "source": [
        "### Deal with null value according to your data analysis."
      ],
      "id": "8fZPO_4Xqrpe"
    },
    {
      "cell_type": "code",
      "execution_count": null,
      "metadata": {
        "id": "1NvNumy-qrpf",
        "outputId": "b0d19590-6241-4f08-d963-236c66bb45e7"
      },
      "outputs": [
        {
          "name": "stdout",
          "output_type": "stream",
          "text": [
            "29.257489451476793\n"
          ]
        }
      ],
      "source": [
        "fill_values =  filtered_df.agg({'bmi':\"mean\"}).collect()[0][0]\n",
        "print(fill_values)"
      ],
      "id": "1NvNumy-qrpf"
    },
    {
      "cell_type": "code",
      "execution_count": null,
      "metadata": {
        "id": "AQAPgu24qrpf"
      },
      "outputs": [],
      "source": [
        "#filtered_df = filtered_df.bmi.na.fill(fill_values)\n",
        "filtered_df = filtered_df.fillna({'bmi':fill_values})"
      ],
      "id": "AQAPgu24qrpf"
    },
    {
      "cell_type": "code",
      "execution_count": null,
      "metadata": {
        "id": "PWnM9DhGqrph",
        "outputId": "9d677067-428e-45c6-d791-04bdc83b3b0c"
      },
      "outputs": [
        {
          "name": "stdout",
          "output_type": "stream",
          "text": [
            "root\n",
            " |-- id: integer (nullable = true)\n",
            " |-- age: double (nullable = true)\n",
            " |-- hypertension: integer (nullable = true)\n",
            " |-- heart_disease: integer (nullable = true)\n",
            " |-- ever_married: string (nullable = true)\n",
            " |-- work_type: string (nullable = true)\n",
            " |-- Residence_type: string (nullable = true)\n",
            " |-- avg_glucose_level: double (nullable = true)\n",
            " |-- bmi: double (nullable = false)\n",
            " |-- stroke: integer (nullable = true)\n",
            " |-- gender: string (nullable = true)\n",
            " |-- smoking_status: string (nullable = true)\n",
            "\n"
          ]
        }
      ],
      "source": [
        "filtered_df.printSchema()"
      ],
      "id": "PWnM9DhGqrph"
    },
    {
      "cell_type": "code",
      "execution_count": null,
      "metadata": {
        "id": "iad3176Uqrpi",
        "outputId": "2b4cb7ed-a634-4518-98b8-01110a3e7da2"
      },
      "outputs": [
        {
          "name": "stdout",
          "output_type": "stream",
          "text": [
            "+---+---+------------+-------------+------------+---------+--------------+-----------------+---+------+------+--------------+\n",
            "| id|age|hypertension|heart_disease|ever_married|work_type|Residence_type|avg_glucose_level|bmi|stroke|gender|smoking_status|\n",
            "+---+---+------------+-------------+------------+---------+--------------+-----------------+---+------+------+--------------+\n",
            "|  0|  0|           0|            0|           0|        0|             0|                0|  0|     0|     0|             0|\n",
            "+---+---+------------+-------------+------------+---------+--------------+-----------------+---+------+------+--------------+\n",
            "\n"
          ]
        }
      ],
      "source": [
        "#make sure that all nulls are imputed\n",
        "\n",
        "count_null_df = filtered_df.select([count(when(isnan(c) | col(c).isNull(), c)).alias(c) for c in filtered_df.columns])\n",
        "count_null_df.show()"
      ],
      "id": "iad3176Uqrpi"
    },
    {
      "cell_type": "markdown",
      "metadata": {
        "id": "hQhJoELfqrpj"
      },
      "source": [
        "### Split the data into training and test dataframes:\n",
        "- 80% training and 20% test.\n",
        "- seed = 42.\n",
        "- Save each dataframe as a parquet file"
      ],
      "id": "hQhJoELfqrpj"
    },
    {
      "cell_type": "code",
      "execution_count": null,
      "metadata": {
        "id": "NRK_G1uNqrpj",
        "outputId": "d846ea10-c886-40b6-e0ed-7b8dcceff235"
      },
      "outputs": [
        {
          "name": "stdout",
          "output_type": "stream",
          "text": [
            "There are 3991 rows in the training set, and 944 in the test set\n"
          ]
        }
      ],
      "source": [
        "trainDF, testDF = filtered_df.randomSplit([.8,.2],seed=42)\n",
        "print(f\"There are {trainDF.count()} rows in the training set, and {testDF.count()} in the test set\")\n"
      ],
      "id": "NRK_G1uNqrpj"
    },
    {
      "cell_type": "code",
      "execution_count": null,
      "metadata": {
        "id": "kkJVyV3eqrpk"
      },
      "outputs": [],
      "source": [
        "(trainDF.write.format(\"parquet\")\n",
        " .mode(\"overwrite\")\n",
        " .option(\"compression\", \"snappy\")\n",
        " .save(\"train_df_parquet\"))"
      ],
      "id": "kkJVyV3eqrpk"
    },
    {
      "cell_type": "code",
      "execution_count": null,
      "metadata": {
        "id": "cDQQEYijqrpl"
      },
      "outputs": [],
      "source": [
        "(testDF.write.format(\"parquet\")\n",
        " .mode(\"overwrite\")\n",
        " .option(\"compression\", \"snappy\")\n",
        " .save(\"test_df_parquet\"))"
      ],
      "id": "cDQQEYijqrpl"
    },
    {
      "cell_type": "markdown",
      "metadata": {
        "id": "VAiP_iSoqrpm"
      },
      "source": [
        "### Read the saved Train and Test DataFrame:\n",
        "- Use the dataframes I read in the subsequent steps."
      ],
      "id": "VAiP_iSoqrpm"
    },
    {
      "cell_type": "code",
      "execution_count": null,
      "metadata": {
        "id": "-4nXfGASqrpm"
      },
      "outputs": [],
      "source": [
        "train_df = spark.read.format('parquet').load('train_df_parquet')\n",
        "test_df = spark.read.format('parquet').load('test_df_parquet')"
      ],
      "id": "-4nXfGASqrpm"
    },
    {
      "cell_type": "code",
      "execution_count": null,
      "metadata": {
        "id": "OUlMR2Xkqrpn",
        "outputId": "7738561b-ef4b-40cb-9220-c9dff5d39698"
      },
      "outputs": [
        {
          "name": "stdout",
          "output_type": "stream",
          "text": [
            "root\n",
            " |-- id: integer (nullable = true)\n",
            " |-- age: double (nullable = true)\n",
            " |-- hypertension: integer (nullable = true)\n",
            " |-- heart_disease: integer (nullable = true)\n",
            " |-- ever_married: string (nullable = true)\n",
            " |-- work_type: string (nullable = true)\n",
            " |-- Residence_type: string (nullable = true)\n",
            " |-- avg_glucose_level: double (nullable = true)\n",
            " |-- bmi: double (nullable = true)\n",
            " |-- stroke: integer (nullable = true)\n",
            " |-- gender: string (nullable = true)\n",
            " |-- smoking_status: string (nullable = true)\n",
            "\n"
          ]
        }
      ],
      "source": [
        "train_df.printSchema()"
      ],
      "id": "OUlMR2Xkqrpn"
    },
    {
      "cell_type": "code",
      "execution_count": null,
      "metadata": {
        "id": "bTPvTcgaqrpn",
        "outputId": "ace53829-3102-4c03-fa1b-243e0e7de0b5"
      },
      "outputs": [
        {
          "name": "stdout",
          "output_type": "stream",
          "text": [
            "+---+----+------------+-------------+------------+---------+--------------+-----------------+------------------+------+------+--------------+\n",
            "| id| age|hypertension|heart_disease|ever_married|work_type|Residence_type|avg_glucose_level|               bmi|stroke|gender|smoking_status|\n",
            "+---+----+------------+-------------+------------+---------+--------------+-----------------+------------------+------+------+--------------+\n",
            "| 67|17.0|           0|            0|          No|  Private|         Urban|            92.97|29.257489451476793|     0|     0|          0.75|\n",
            "| 77|13.0|           0|            0|          No| children|         Rural|            85.81|              18.6|     0|     0|           0.5|\n",
            "+---+----+------------+-------------+------------+---------+--------------+-----------------+------------------+------+------+--------------+\n",
            "only showing top 2 rows\n",
            "\n"
          ]
        }
      ],
      "source": [
        "train_df.show(2)"
      ],
      "id": "bTPvTcgaqrpn"
    },
    {
      "cell_type": "markdown",
      "metadata": {
        "id": "C9Fu9gL7qrpo"
      },
      "source": [
        "### Create the model:\n",
        "- Perform feature engineering steps.\n",
        "- Create the logistic regression classifier.\n",
        "- Build the pipeline model that uses all feature engineering steps and the model.\n",
        "- Train the pipeline model using the trainig dataset."
      ],
      "id": "C9Fu9gL7qrpo"
    },
    {
      "cell_type": "code",
      "execution_count": null,
      "metadata": {
        "id": "o8tHUFesqrpp"
      },
      "outputs": [],
      "source": [
        "train_df = train_df.withColumn(\"smoking_status\", train_df[\"smoking_status\"].cast(\"double\"))\n",
        "test_df = test_df.withColumn(\"smoking_status\", test_df[\"smoking_status\"].cast(\"double\"))"
      ],
      "id": "o8tHUFesqrpp"
    },
    {
      "cell_type": "code",
      "execution_count": null,
      "metadata": {
        "id": "nOJGUYUCqrpq",
        "outputId": "e27dde37-2edb-4664-9a32-7b0f9fd675aa"
      },
      "outputs": [
        {
          "name": "stdout",
          "output_type": "stream",
          "text": [
            "root\n",
            " |-- id: integer (nullable = true)\n",
            " |-- age: double (nullable = true)\n",
            " |-- hypertension: integer (nullable = true)\n",
            " |-- heart_disease: integer (nullable = true)\n",
            " |-- ever_married: string (nullable = true)\n",
            " |-- work_type: string (nullable = true)\n",
            " |-- Residence_type: string (nullable = true)\n",
            " |-- avg_glucose_level: double (nullable = true)\n",
            " |-- bmi: double (nullable = true)\n",
            " |-- stroke: integer (nullable = true)\n",
            " |-- gender: string (nullable = true)\n",
            " |-- smoking_status: double (nullable = true)\n",
            "\n"
          ]
        }
      ],
      "source": [
        "train_df.printSchema()"
      ],
      "id": "nOJGUYUCqrpq"
    },
    {
      "cell_type": "code",
      "execution_count": null,
      "metadata": {
        "id": "x6r6Go8zqrpq",
        "outputId": "5ac844db-cd79-47ac-f143-b346d2e5ed94"
      },
      "outputs": [
        {
          "name": "stdout",
          "output_type": "stream",
          "text": [
            "root\n",
            " |-- age: double (nullable = true)\n",
            " |-- hypertension: integer (nullable = true)\n",
            " |-- heart_disease: integer (nullable = true)\n",
            " |-- ever_married: string (nullable = true)\n",
            " |-- work_type: string (nullable = true)\n",
            " |-- Residence_type: string (nullable = true)\n",
            " |-- avg_glucose_level: double (nullable = true)\n",
            " |-- bmi: double (nullable = true)\n",
            " |-- stroke: integer (nullable = true)\n",
            " |-- gender: string (nullable = true)\n",
            " |-- smoking_status: double (nullable = true)\n",
            "\n"
          ]
        }
      ],
      "source": [
        "train_df = train_df.drop('id')\n",
        "train_df.printSchema()"
      ],
      "id": "x6r6Go8zqrpq"
    },
    {
      "cell_type": "code",
      "execution_count": null,
      "metadata": {
        "id": "miPgFrwNqrps",
        "outputId": "d9f70740-d313-4958-a696-fe80670399ec"
      },
      "outputs": [
        {
          "name": "stdout",
          "output_type": "stream",
          "text": [
            "root\n",
            " |-- age: double (nullable = true)\n",
            " |-- hypertension: integer (nullable = true)\n",
            " |-- heart_disease: integer (nullable = true)\n",
            " |-- ever_married: string (nullable = true)\n",
            " |-- work_type: string (nullable = true)\n",
            " |-- Residence_type: string (nullable = true)\n",
            " |-- avg_glucose_level: double (nullable = true)\n",
            " |-- bmi: double (nullable = true)\n",
            " |-- stroke: integer (nullable = true)\n",
            " |-- gender: string (nullable = true)\n",
            " |-- smoking_status: double (nullable = true)\n",
            "\n"
          ]
        }
      ],
      "source": [
        "test_df = test_df.drop('id')\n",
        "test_df.printSchema()"
      ],
      "id": "miPgFrwNqrps"
    },
    {
      "cell_type": "code",
      "execution_count": null,
      "metadata": {
        "id": "eKCA9mpMqrpt",
        "outputId": "49ae50e6-4df5-4914-e295-f45de75ba7a3"
      },
      "outputs": [
        {
          "data": {
            "text/plain": [
              "['ever_married', 'work_type', 'Residence_type', 'gender']"
            ]
          },
          "execution_count": 34,
          "metadata": {},
          "output_type": "execute_result"
        }
      ],
      "source": [
        "from pyspark.ml.feature import StringIndexer, OneHotEncoder\n",
        "categoricalCols = [field for (field, dataType) in train_df.dtypes\n",
        "                   if dataType == \"string\"]\n",
        "\n",
        "categoricalCols"
      ],
      "id": "eKCA9mpMqrpt"
    },
    {
      "cell_type": "code",
      "execution_count": null,
      "metadata": {
        "id": "CnIO6EwLqrpt",
        "outputId": "be1a6430-90ef-4db5-9a93-f0f428c5d629"
      },
      "outputs": [
        {
          "data": {
            "text/plain": [
              "['ever_married_Index',\n",
              " 'work_type_Index',\n",
              " 'Residence_type_Index',\n",
              " 'gender_Index']"
            ]
          },
          "execution_count": 35,
          "metadata": {},
          "output_type": "execute_result"
        }
      ],
      "source": [
        "indexOutputCols = [x + \"_Index\" for x in categoricalCols]\n",
        "indexOutputCols"
      ],
      "id": "CnIO6EwLqrpt"
    },
    {
      "cell_type": "code",
      "execution_count": null,
      "metadata": {
        "id": "HI7y-2RCqrpw",
        "outputId": "36026c4b-7699-4ef5-b4d4-1f22ca33abfe"
      },
      "outputs": [
        {
          "data": {
            "text/plain": [
              "['ever_married_OHE', 'work_type_OHE', 'Residence_type_OHE', 'gender_OHE']"
            ]
          },
          "execution_count": 36,
          "metadata": {},
          "output_type": "execute_result"
        }
      ],
      "source": [
        "oheOutputCols = [x + \"_OHE\" for x in categoricalCols]\n",
        "oheOutputCols"
      ],
      "id": "HI7y-2RCqrpw"
    },
    {
      "cell_type": "code",
      "execution_count": null,
      "metadata": {
        "id": "Bw7gYpaQqrpx"
      },
      "outputs": [],
      "source": [
        "stringIndexer = StringIndexer(inputCols=categoricalCols,\n",
        "                             outputCols=indexOutputCols,\n",
        "                             handleInvalid='skip')\n",
        "oheEncoder = OneHotEncoder(inputCols=indexOutputCols,\n",
        "                          outputCols=oheOutputCols)"
      ],
      "id": "Bw7gYpaQqrpx"
    },
    {
      "cell_type": "code",
      "execution_count": null,
      "metadata": {
        "id": "8yEP8lkHqrpy",
        "outputId": "40f096d3-9352-4e30-8003-aed4136fde65"
      },
      "outputs": [
        {
          "data": {
            "text/plain": [
              "['age', 'hypertension', 'heart_disease', 'avg_glucose_level', 'bmi']"
            ]
          },
          "execution_count": 38,
          "metadata": {},
          "output_type": "execute_result"
        }
      ],
      "source": [
        "numericCols = [field for (field,dataType) in trainDF.dtypes\n",
        "              if ((dataType=='double' or dataType=='int' )and (field!=\"stroke\" and field!=\"id\"))]\n",
        "numericCols\n"
      ],
      "id": "8yEP8lkHqrpy"
    },
    {
      "cell_type": "code",
      "execution_count": null,
      "metadata": {
        "id": "pVWSbNaHqrp0",
        "outputId": "58a83171-437b-4105-f6a6-4128b086b0b7"
      },
      "outputs": [
        {
          "data": {
            "text/plain": [
              "['ever_married_OHE',\n",
              " 'work_type_OHE',\n",
              " 'Residence_type_OHE',\n",
              " 'gender_OHE',\n",
              " 'age',\n",
              " 'hypertension',\n",
              " 'heart_disease',\n",
              " 'avg_glucose_level',\n",
              " 'bmi']"
            ]
          },
          "execution_count": 39,
          "metadata": {},
          "output_type": "execute_result"
        }
      ],
      "source": [
        "assemblerInputs = oheOutputCols + numericCols\n",
        "assemblerInputs"
      ],
      "id": "pVWSbNaHqrp0"
    },
    {
      "cell_type": "code",
      "execution_count": null,
      "metadata": {
        "id": "X2pZ1Kd4qrp1"
      },
      "outputs": [],
      "source": [
        "from pyspark.ml.linalg import Vectors\n",
        "from pyspark.ml.feature import VectorAssembler"
      ],
      "id": "X2pZ1Kd4qrp1"
    },
    {
      "cell_type": "code",
      "execution_count": null,
      "metadata": {
        "id": "FUJFJlQ4qrp1"
      },
      "outputs": [],
      "source": [
        "assembler = VectorAssembler(\n",
        "  inputCols=assemblerInputs,\n",
        "    outputCol=\"features\")"
      ],
      "id": "FUJFJlQ4qrp1"
    },
    {
      "cell_type": "code",
      "execution_count": null,
      "metadata": {
        "id": "OHK9C779qrp2"
      },
      "outputs": [],
      "source": [
        "from pyspark.ml.feature import VectorAssembler\n",
        "vecAssembler = VectorAssembler(inputCols=assemblerInputs,outputCol='features')\n"
      ],
      "id": "OHK9C779qrp2"
    },
    {
      "cell_type": "code",
      "execution_count": null,
      "metadata": {
        "id": "BGnuRz0Kqrp3"
      },
      "outputs": [],
      "source": [
        "from pyspark.ml.classification import LogisticRegression\n",
        "lr = LogisticRegression(featuresCol='features',labelCol=\"stroke\")"
      ],
      "id": "BGnuRz0Kqrp3"
    },
    {
      "cell_type": "code",
      "execution_count": null,
      "metadata": {
        "id": "7A1R7_SBqrp3"
      },
      "outputs": [],
      "source": [
        "from pyspark.ml import Pipeline\n",
        "pipeline =Pipeline(stages = [stringIndexer,oheEncoder,vecAssembler,lr])\n",
        "pipelineModel = pipeline.fit(train_df)\n",
        "predDF = pipelineModel.transform(test_df)"
      ],
      "id": "7A1R7_SBqrp3"
    },
    {
      "cell_type": "markdown",
      "metadata": {
        "id": "28eEVhbBqrp4"
      },
      "source": [
        "### Perform predictions on tests dataframe:\n",
        "- Test the model using the test dataframe\n",
        "- Select and show the feature column.\n",
        "- Print the schema of the output dataframe.\n",
        "- Select and show both prediction and label columns.\n",
        "- Explore the results for the label column stroke=1. i.e. select both columns (prediction,stroke) for stroke=1.<b>notice the result.</b>\n",
        "- Count the predicted 1 and 0 values.<b>notice the result.</b>   "
      ],
      "id": "28eEVhbBqrp4"
    },
    {
      "cell_type": "code",
      "execution_count": null,
      "metadata": {
        "id": "Has0Bo2Dqrp4",
        "outputId": "7cc11d81-953e-4901-a0b6-e47b66d89980"
      },
      "outputs": [
        {
          "name": "stdout",
          "output_type": "stream",
          "text": [
            "+----------+\n",
            "|prediction|\n",
            "+----------+\n",
            "|       0.0|\n",
            "|       0.0|\n",
            "|       0.0|\n",
            "|       0.0|\n",
            "|       0.0|\n",
            "|       0.0|\n",
            "|       0.0|\n",
            "|       0.0|\n",
            "|       0.0|\n",
            "|       0.0|\n",
            "|       0.0|\n",
            "|       0.0|\n",
            "|       0.0|\n",
            "|       0.0|\n",
            "|       0.0|\n",
            "|       0.0|\n",
            "|       0.0|\n",
            "|       0.0|\n",
            "|       0.0|\n",
            "|       0.0|\n",
            "+----------+\n",
            "only showing top 20 rows\n",
            "\n"
          ]
        }
      ],
      "source": [
        "predDF.select('prediction').show()"
      ],
      "id": "Has0Bo2Dqrp4"
    },
    {
      "cell_type": "code",
      "execution_count": null,
      "metadata": {
        "id": "WHdWXgkeqrp5",
        "outputId": "47640c77-a7ad-4a17-8fe5-f454e8cf1a7f"
      },
      "outputs": [
        {
          "name": "stdout",
          "output_type": "stream",
          "text": [
            "+--------------------+\n",
            "|            features|\n",
            "+--------------------+\n",
            "|(12,[0,1,5,7,10,1...|\n",
            "|(12,[1,5,6,7,10,1...|\n",
            "|(12,[0,1,6,7,10,1...|\n",
            "|(12,[0,1,6,7,10,1...|\n",
            "|(12,[0,1,5,7,10,1...|\n",
            "|(12,[0,1,6,7,10,1...|\n",
            "|(12,[0,2,7,8,10,1...|\n",
            "|[1.0,0.0,1.0,0.0,...|\n",
            "|(12,[4,6,7,10,11]...|\n",
            "|(12,[0,1,7,10,11]...|\n",
            "|(12,[0,3,7,10,11]...|\n",
            "|[0.0,1.0,0.0,0.0,...|\n",
            "|(12,[1,7,10,11],[...|\n",
            "|(12,[0,2,6,7,10,1...|\n",
            "|[1.0,1.0,0.0,0.0,...|\n",
            "|[1.0,0.0,0.0,1.0,...|\n",
            "|(12,[1,5,6,7,10,1...|\n",
            "|[1.0,1.0,0.0,0.0,...|\n",
            "|(12,[0,3,5,7,10,1...|\n",
            "|(12,[1,5,6,7,10,1...|\n",
            "+--------------------+\n",
            "only showing top 20 rows\n",
            "\n"
          ]
        }
      ],
      "source": [
        "predDF.select('features').show()"
      ],
      "id": "WHdWXgkeqrp5"
    },
    {
      "cell_type": "code",
      "execution_count": null,
      "metadata": {
        "scrolled": false,
        "id": "A7T4-f-1qrp6",
        "outputId": "5024022d-bed1-4451-f10f-978afa2d0e0a"
      },
      "outputs": [
        {
          "name": "stdout",
          "output_type": "stream",
          "text": [
            "root\n",
            " |-- age: double (nullable = true)\n",
            " |-- hypertension: integer (nullable = true)\n",
            " |-- heart_disease: integer (nullable = true)\n",
            " |-- ever_married: string (nullable = true)\n",
            " |-- work_type: string (nullable = true)\n",
            " |-- Residence_type: string (nullable = true)\n",
            " |-- avg_glucose_level: double (nullable = true)\n",
            " |-- bmi: double (nullable = true)\n",
            " |-- stroke: integer (nullable = true)\n",
            " |-- gender: string (nullable = true)\n",
            " |-- smoking_status: double (nullable = true)\n",
            " |-- ever_married_Index: double (nullable = false)\n",
            " |-- work_type_Index: double (nullable = false)\n",
            " |-- Residence_type_Index: double (nullable = false)\n",
            " |-- gender_Index: double (nullable = false)\n",
            " |-- ever_married_OHE: vector (nullable = true)\n",
            " |-- work_type_OHE: vector (nullable = true)\n",
            " |-- Residence_type_OHE: vector (nullable = true)\n",
            " |-- gender_OHE: vector (nullable = true)\n",
            " |-- features: vector (nullable = true)\n",
            " |-- rawPrediction: vector (nullable = true)\n",
            " |-- probability: vector (nullable = true)\n",
            " |-- prediction: double (nullable = false)\n",
            "\n"
          ]
        }
      ],
      "source": [
        "predDF.printSchema()"
      ],
      "id": "A7T4-f-1qrp6"
    },
    {
      "cell_type": "code",
      "execution_count": null,
      "metadata": {
        "id": "Al59huemqrp6",
        "outputId": "6ea26da7-c141-403c-a8b7-8fe74e1fd8fd"
      },
      "outputs": [
        {
          "name": "stdout",
          "output_type": "stream",
          "text": [
            "+----------+------+\n",
            "|prediction|stroke|\n",
            "+----------+------+\n",
            "|       0.0|     0|\n",
            "|       0.0|     0|\n",
            "|       0.0|     0|\n",
            "|       0.0|     0|\n",
            "|       0.0|     0|\n",
            "|       0.0|     0|\n",
            "|       0.0|     0|\n",
            "|       0.0|     1|\n",
            "|       0.0|     0|\n",
            "|       0.0|     0|\n",
            "|       0.0|     0|\n",
            "|       0.0|     1|\n",
            "|       0.0|     0|\n",
            "|       0.0|     0|\n",
            "|       0.0|     0|\n",
            "|       0.0|     0|\n",
            "|       0.0|     0|\n",
            "|       0.0|     0|\n",
            "|       0.0|     0|\n",
            "|       0.0|     0|\n",
            "+----------+------+\n",
            "only showing top 20 rows\n",
            "\n"
          ]
        }
      ],
      "source": [
        "predDF.select('prediction','stroke').show()"
      ],
      "id": "Al59huemqrp6"
    },
    {
      "cell_type": "code",
      "execution_count": null,
      "metadata": {
        "id": "Qng2ls4Gqrp7",
        "outputId": "eb06724e-cd96-429d-af09-ed12a3866b98"
      },
      "outputs": [
        {
          "name": "stdout",
          "output_type": "stream",
          "text": [
            "+------+----------+\n",
            "|stroke|prediction|\n",
            "+------+----------+\n",
            "|     1|       0.0|\n",
            "|     1|       0.0|\n",
            "|     1|       0.0|\n",
            "|     1|       0.0|\n",
            "|     1|       0.0|\n",
            "|     1|       0.0|\n",
            "|     1|       0.0|\n",
            "|     1|       0.0|\n",
            "|     1|       0.0|\n",
            "|     1|       0.0|\n",
            "|     1|       0.0|\n",
            "|     1|       0.0|\n",
            "|     1|       0.0|\n",
            "|     1|       0.0|\n",
            "|     1|       0.0|\n",
            "|     1|       0.0|\n",
            "|     1|       0.0|\n",
            "|     1|       0.0|\n",
            "|     1|       0.0|\n",
            "|     1|       0.0|\n",
            "+------+----------+\n",
            "only showing top 20 rows\n",
            "\n"
          ]
        }
      ],
      "source": [
        "predDF.select('stroke','prediction').filter(predDF.stroke==1).show()"
      ],
      "id": "Qng2ls4Gqrp7"
    },
    {
      "cell_type": "code",
      "execution_count": null,
      "metadata": {
        "id": "mzqZF9ylqrp7",
        "outputId": "98759959-f0a9-4858-b4d7-6371db9e7745"
      },
      "outputs": [
        {
          "name": "stdout",
          "output_type": "stream",
          "text": [
            "+------+----------+\n",
            "|stroke|prediction|\n",
            "+------+----------+\n",
            "|     1|       0.0|\n",
            "|     1|       0.0|\n",
            "|     1|       0.0|\n",
            "|     1|       0.0|\n",
            "|     1|       0.0|\n",
            "|     1|       0.0|\n",
            "|     1|       0.0|\n",
            "|     1|       0.0|\n",
            "|     1|       0.0|\n",
            "|     1|       0.0|\n",
            "|     1|       0.0|\n",
            "|     1|       0.0|\n",
            "|     1|       0.0|\n",
            "|     1|       0.0|\n",
            "|     1|       0.0|\n",
            "|     1|       0.0|\n",
            "|     1|       0.0|\n",
            "|     1|       0.0|\n",
            "|     1|       0.0|\n",
            "|     1|       0.0|\n",
            "+------+----------+\n",
            "only showing top 20 rows\n",
            "\n"
          ]
        }
      ],
      "source": [
        "predDF.select('stroke','prediction').filter(predDF.stroke==1).show()"
      ],
      "id": "mzqZF9ylqrp7"
    },
    {
      "cell_type": "code",
      "execution_count": null,
      "metadata": {
        "id": "emH6Y4Yrqrp9",
        "outputId": "d926b371-819e-422a-e9dd-8389bd8545f1"
      },
      "outputs": [
        {
          "name": "stdout",
          "output_type": "stream",
          "text": [
            "+----------+-----+\n",
            "|prediction|count|\n",
            "+----------+-----+\n",
            "|       0.0|  943|\n",
            "|       1.0|    1|\n",
            "+----------+-----+\n",
            "\n"
          ]
        }
      ],
      "source": [
        "predDF.groupBy('prediction').count().show()\n"
      ],
      "id": "emH6Y4Yrqrp9"
    },
    {
      "cell_type": "markdown",
      "metadata": {
        "id": "YyZPvWZ1qrp-"
      },
      "source": [
        "### Evaluate the model performance\n",
        "- Using <b>BinaryClassificationEvaluator</b>. This will calculate the <b>ROC</b>.\n",
        "- I Set the parameters as follow:\n",
        "    - <b>rawPredictionCol='prediction'</b> and <b>labelCol='stroke'</b>"
      ],
      "id": "YyZPvWZ1qrp-"
    },
    {
      "cell_type": "code",
      "execution_count": null,
      "metadata": {
        "id": "l4GhU3f6qrp-"
      },
      "outputs": [],
      "source": [
        "from pyspark.ml.evaluation import BinaryClassificationEvaluator"
      ],
      "id": "l4GhU3f6qrp-"
    },
    {
      "cell_type": "code",
      "execution_count": null,
      "metadata": {
        "id": "UaNgQEEQqrp_"
      },
      "outputs": [],
      "source": [
        "evaluatorROC = BinaryClassificationEvaluator(rawPredictionCol='prediction'\n",
        "                                             ,labelCol='stroke')"
      ],
      "id": "UaNgQEEQqrp_"
    },
    {
      "cell_type": "code",
      "execution_count": null,
      "metadata": {
        "id": "RDeNmSefqrqA",
        "outputId": "68d85210-ff95-40dc-ff73-a068e95c43de"
      },
      "outputs": [
        {
          "data": {
            "text/plain": [
              "0.4994475138121547"
            ]
          },
          "execution_count": 54,
          "metadata": {},
          "output_type": "execute_result"
        }
      ],
      "source": [
        "evaluatorROC.evaluate(predDF)"
      ],
      "id": "RDeNmSefqrqA"
    },
    {
      "cell_type": "markdown",
      "metadata": {
        "id": "cl6b0RVIqrqA"
      },
      "source": [
        "### Improve Model Performance\n",
        "- you may noticed that <b>the target label is imbalanced</b>.\n",
        "- LogisticRegression classifier has a special parameter <b>weightCol</b> to deal with imbalanced class.\n",
        "- In order to use this parameter you must have a <b>weightCol</b> in your training dataframe.\n",
        "- In order to create this column you will need to define a <b>UDF</b> and apply it to the target label column.\n",
        "- Create a LogisticRegression classifier with <b>weightCol</b> parameter.\n",
        "- Build and train a pipeline model with the new LogisticRegression.\n",
        "- Perform the prediction on the test dataframe.\n",
        "- Select and show both prediction and label columns.\n",
        "- Explore the results for the label column stroke=1. i.e. select both columns (prediction,stroke) for stroke=1.<b>notice the result.</b>\n",
        "- Count the predicted 1 and 0 values.<b>notice the result.</b>   \n",
        "- Evaluate the model performance exactly as in the previous step.\n",
        "### I SHOULD OBTAIN  ROC > 0.65\n"
      ],
      "id": "cl6b0RVIqrqA"
    },
    {
      "cell_type": "code",
      "execution_count": null,
      "metadata": {
        "id": "KMuqdoKYqrqB"
      },
      "outputs": [],
      "source": [
        "def balance(label):\n",
        "    if label == 1:\n",
        "        return 0.9551382368283776\n",
        "    else:\n",
        "        return 0.04486176317162238\n",
        "\n",
        "\n"
      ],
      "id": "KMuqdoKYqrqB"
    },
    {
      "cell_type": "code",
      "execution_count": null,
      "metadata": {
        "id": "6dqwO72wqrqB"
      },
      "outputs": [],
      "source": [
        "balanceUDF = udf(lambda z: balance(z))\n",
        "temp = filtered_df.withColumn(\"gender_mapped\", mapping_genderUDF(col(\"gender\")))\n",
        "\n",
        "train_df = train_df.withColumn('weightCol',balanceUDF(col('stroke')))"
      ],
      "id": "6dqwO72wqrqB"
    },
    {
      "cell_type": "code",
      "execution_count": null,
      "metadata": {
        "id": "iIiG3itGqrqC"
      },
      "outputs": [],
      "source": [
        "train_df = train_df.withColumn(\"weightCol\", train_df[\"weightCol\"].cast(\"double\"))"
      ],
      "id": "iIiG3itGqrqC"
    },
    {
      "cell_type": "code",
      "execution_count": null,
      "metadata": {
        "id": "6pGeowbtqrqD",
        "outputId": "dcb9b90e-5075-4ec3-d4dd-11db4f148d11"
      },
      "outputs": [
        {
          "name": "stdout",
          "output_type": "stream",
          "text": [
            "root\n",
            " |-- age: double (nullable = true)\n",
            " |-- hypertension: integer (nullable = true)\n",
            " |-- heart_disease: integer (nullable = true)\n",
            " |-- ever_married: string (nullable = true)\n",
            " |-- work_type: string (nullable = true)\n",
            " |-- Residence_type: string (nullable = true)\n",
            " |-- avg_glucose_level: double (nullable = true)\n",
            " |-- bmi: double (nullable = true)\n",
            " |-- stroke: integer (nullable = true)\n",
            " |-- gender: string (nullable = true)\n",
            " |-- smoking_status: double (nullable = true)\n",
            "\n"
          ]
        }
      ],
      "source": [
        "test_df.printSchema()"
      ],
      "id": "6pGeowbtqrqD"
    },
    {
      "cell_type": "code",
      "execution_count": null,
      "metadata": {
        "id": "7kk5ETL5qrqD"
      },
      "outputs": [],
      "source": [
        "colStringIndx = ['ever_married','work_type','Residence_type','gender']\n",
        "indexOutputCols = [x + \"_Index\" for x in colStringIndx]\n",
        "oheOutputCols = [x + \"_OHE\" for x in colStringIndx]\n",
        "\n",
        "stringIndexer = StringIndexer(inputCols=colStringIndx,\n",
        "                             outputCols=indexOutputCols,\n",
        "                             handleInvalid='skip')\n",
        "oheEncoder = OneHotEncoder(inputCols=indexOutputCols,\n",
        "                           outputCols = oheOutputCols)\n",
        "\n",
        "numericCols = ['age', 'hypertension', 'heart_disease', 'avg_glucose_level', 'bmi','smoking_status']\n",
        "\n",
        "assemblerInputs = indexOutputCols + numericCols\n",
        "vecAssembler = VectorAssembler(inputCols=assemblerInputs,outputCol='features')\n",
        "\n",
        "lr = LogisticRegression(featuresCol='features',labelCol=\"stroke\",weightCol='weightCol')\n",
        "pipeline =Pipeline(stages = [stringIndexer,oheEncoder,vecAssembler,lr])\n",
        "\n",
        "pipelineModelLR = pipeline.fit(train_df)"
      ],
      "id": "7kk5ETL5qrqD"
    },
    {
      "cell_type": "code",
      "execution_count": null,
      "metadata": {
        "id": "pu8E5BzOqrqF"
      },
      "outputs": [],
      "source": [
        "pred_W = pipelineModelLR.transform(test_df)"
      ],
      "id": "pu8E5BzOqrqF"
    },
    {
      "cell_type": "code",
      "execution_count": null,
      "metadata": {
        "id": "EjbRWBRxqrqF",
        "outputId": "a691c80e-0d8b-4a9b-a5f0-5a4366285a33"
      },
      "outputs": [
        {
          "data": {
            "text/plain": [
              "0.7593143504745715"
            ]
          },
          "execution_count": 61,
          "metadata": {},
          "output_type": "execute_result"
        }
      ],
      "source": [
        "evaluatorROC.evaluate(pred_W)"
      ],
      "id": "EjbRWBRxqrqF"
    }
  ],
  "metadata": {
    "kernelspec": {
      "display_name": "Python 3",
      "language": "python",
      "name": "python3"
    },
    "language_info": {
      "codemirror_mode": {
        "name": "ipython",
        "version": 3
      },
      "file_extension": ".py",
      "mimetype": "text/x-python",
      "name": "python",
      "nbconvert_exporter": "python",
      "pygments_lexer": "ipython3",
      "version": "3.7.4"
    },
    "colab": {
      "provenance": []
    }
  },
  "nbformat": 4,
  "nbformat_minor": 5
}